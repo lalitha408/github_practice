{
 "cells": [
  {
   "cell_type": "markdown",
   "metadata": {},
   "source": [
    "#### 1.Create a function that takes a number as an argument and returns True or False depending\n",
    "#### on whether the number is symmetrical or not. A number is symmetrical when it is the same as its reverse.\n",
    "#### Examples\n",
    "#### is_symmetrical(7227) ➞ True\n",
    "#### is_symmetrical(12567) ➞ False\n",
    "#### is_symmetrical(44444444) ➞ True\n",
    "#### is_symmetrical(9939) ➞ False\n",
    "#### is_symmetrical(1112111) ➞ True"
   ]
  },
  {
   "cell_type": "code",
   "execution_count": 4,
   "metadata": {},
   "outputs": [
    {
     "data": {
      "text/plain": [
       "True"
      ]
     },
     "execution_count": 4,
     "metadata": {},
     "output_type": "execute_result"
    }
   ],
   "source": [
    "def is_symmetrical(n):\n",
    "    n=str(n)\n",
    "    if n==n[::-1]:\n",
    "        return True\n",
    "    else:\n",
    "        return False\n",
    "is_symmetrical(44444444)    "
   ]
  },
  {
   "cell_type": "markdown",
   "metadata": {},
   "source": [
    "#### 2.Given a string of numbers separated by a comma and space, return the product of the numbers.\n",
    "#### Examples\n",
    "#### multiply_nums(&quot;2, 3&quot;) ➞ 6\n",
    "#### multiply_nums(&quot;1, 2, 3, 4&quot;) ➞ 24\n",
    "#### multiply_nums(&quot;54, 75, 453, 0&quot;) ➞ 0\n",
    "#### multiply_nums(&quot;10, -2&quot;) ➞ -20"
   ]
  },
  {
   "cell_type": "code",
   "execution_count": 8,
   "metadata": {},
   "outputs": [
    {
     "data": {
      "text/plain": [
       "-20"
      ]
     },
     "execution_count": 8,
     "metadata": {},
     "output_type": "execute_result"
    }
   ],
   "source": [
    "def multiply_nums(s):\n",
    "    product=1\n",
    "    for i in s.split(','):\n",
    "        product=product*int(i)\n",
    "    return product    \n",
    "multiply_nums(\"10, -2\")        "
   ]
  },
  {
   "cell_type": "markdown",
   "metadata": {},
   "source": [
    "#### 3.Create a function that squares every digit of a number.\n",
    "#### Examples\n",
    "#### square_digits(9119) ➞ 811181\n",
    "#### square_digits(2483) ➞ 416649\n",
    "#### square_digits(3212) ➞ 9414\n",
    "#### Notes\n",
    "#### The function receives an integer and must return an integer."
   ]
  },
  {
   "cell_type": "code",
   "execution_count": 5,
   "metadata": {},
   "outputs": [
    {
     "data": {
      "text/plain": [
       "9414"
      ]
     },
     "execution_count": 5,
     "metadata": {},
     "output_type": "execute_result"
    }
   ],
   "source": [
    "def square_digits(n):\n",
    "    square=''\n",
    "    for i in str(n):\n",
    "        square=square+str(int(i)**2)\n",
    "    return int(square)    \n",
    "square_digits(3212)        "
   ]
  },
  {
   "cell_type": "markdown",
   "metadata": {},
   "source": [
    "#### 4.Create a function that sorts a list and removes all duplicate items from it.\n",
    "#### Examples\n",
    "#### setify([1, 3, 3, 5, 5]) ➞ [1, 3, 5]\n",
    "#### setify([4, 4, 4, 4]) ➞ [4]\n",
    "#### setify([5, 7, 8, 9, 10, 15]) ➞ [5, 7, 8, 9, 10, 15]\n",
    "#### setify([3, 3, 3, 2, 1]) ➞ [1, 2, 3]"
   ]
  },
  {
   "cell_type": "code",
   "execution_count": 6,
   "metadata": {},
   "outputs": [
    {
     "data": {
      "text/plain": [
       "[1, 2, 3]"
      ]
     },
     "execution_count": 6,
     "metadata": {},
     "output_type": "execute_result"
    }
   ],
   "source": [
    "def setify(l):\n",
    "    return list(set(sorted(l)))\n",
    "setify([3, 3, 3, 2, 1])"
   ]
  },
  {
   "cell_type": "markdown",
   "metadata": {},
   "source": [
    "#### 5.Create a function that returns the mean of all digits.\n",
    "#### Examples\n",
    "#### mean(42) ➞ 3\n",
    "#### mean(12345) ➞ 3\n",
    "#### mean(666) ➞ 6\n",
    "#### Notes\n",
    "#### The mean of all digits is the sum of digits / how many digits there are (e.g. mean of digits in\n",
    "#### 512 is (5+1+2)/3(number of digits) = 8/3=2).\n",
    "#### The mean will always be an integer."
   ]
  },
  {
   "cell_type": "code",
   "execution_count": 12,
   "metadata": {},
   "outputs": [
    {
     "data": {
      "text/plain": [
       "6"
      ]
     },
     "execution_count": 12,
     "metadata": {},
     "output_type": "execute_result"
    }
   ],
   "source": [
    "def mean(n):\n",
    "    sum=0\n",
    "    for i in str(n):\n",
    "        sum=sum+int(i)\n",
    "    return int(sum/len(str(n))) \n",
    "    \n",
    "mean(666)    "
   ]
  },
  {
   "cell_type": "code",
   "execution_count": null,
   "metadata": {},
   "outputs": [],
   "source": []
  }
 ],
 "metadata": {
  "kernelspec": {
   "display_name": "Python 3",
   "language": "python",
   "name": "python3"
  },
  "language_info": {
   "codemirror_mode": {
    "name": "ipython",
    "version": 3
   },
   "file_extension": ".py",
   "mimetype": "text/x-python",
   "name": "python",
   "nbconvert_exporter": "python",
   "pygments_lexer": "ipython3",
   "version": "3.8.5"
  }
 },
 "nbformat": 4,
 "nbformat_minor": 4
}
