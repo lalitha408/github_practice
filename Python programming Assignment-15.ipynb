{
 "cells": [
  {
   "cell_type": "markdown",
   "metadata": {},
   "source": [
    "#### 1. Please write a program using generator to print the numbers which can be divisible by 5 and\n",
    "#### 7 between 0 and n in comma separated form while n is input by console.\n",
    "#### Example:\n",
    "#### If the following n is given as input to the program:\n",
    "#### 100\n",
    "#### Then, the output of the program should be:\n",
    "#### 0,35,70"
   ]
  },
  {
   "cell_type": "code",
   "execution_count": 9,
   "metadata": {},
   "outputs": [
    {
     "name": "stdout",
     "output_type": "stream",
     "text": [
      "enter positive integer: 100\n",
      "0,35,70\n"
     ]
    }
   ],
   "source": [
    "class divisible:\n",
    "    def __init__(self):\n",
    "        n=int(input(\"enter positive integer: \"))\n",
    "        self.n=n\n",
    "\n",
    "    def iterate(self):\n",
    "        for i in range(0,self.n):\n",
    "            if i%5==0 and i%7==0:\n",
    "                yield i\n",
    "            else:\n",
    "                pass\n",
    "a=divisible() \n",
    "c=a.iterate()\n",
    "result=[]\n",
    "for i in c:\n",
    "    result.append(str(i))\n",
    "print(','.join(result))    "
   ]
  },
  {
   "cell_type": "markdown",
   "metadata": {},
   "source": [
    "#### 2. Please write a program using generator to print the even numbers between 0 and n in comma\n",
    "#### separated form while n is input by console.\n",
    "#### Example:\n",
    "#### If the following n is given as input to the program:\n",
    "#### 10\n",
    "#### Then, the output of the program should be:\n",
    "#### 0,2,4,6,8,10"
   ]
  },
  {
   "cell_type": "code",
   "execution_count": 10,
   "metadata": {},
   "outputs": [
    {
     "name": "stdout",
     "output_type": "stream",
     "text": [
      "enter positive integer:10\n",
      "0,2,4,6,8\n"
     ]
    }
   ],
   "source": [
    "def even_gen():\n",
    "    n=int(input('enter positive integer:'))\n",
    "    for i in range(0,n):\n",
    "        if i%2==0:\n",
    "            yield i\n",
    "        else:\n",
    "            pass\n",
    "        \n",
    "a=even_gen()\n",
    "result1=[]\n",
    "for i in a:\n",
    "    result1.append(str(i))\n",
    "print(','.join(result1))    "
   ]
  },
  {
   "cell_type": "markdown",
   "metadata": {},
   "source": [
    "#### 3. The Fibonacci Sequence is computed based on the following formula:\n",
    "#### f(n)=0 if n=0\n",
    "#### f(n)=1 if n=1\n",
    "#### f(n)=f(n-1)+f(n-2) if n&gt;1\n",
    "#### Please write a program using list comprehension to print the Fibonacci Sequence in comma\n",
    "#### separated form with a given n input by console.\n",
    "#### Example:\n",
    "#### If the following n is given as input to the program:\n",
    "#### 7\n",
    "#### Then, the output of the program should be:\n",
    "#### 0,1,1,2,3,5,8,13"
   ]
  },
  {
   "cell_type": "code",
   "execution_count": 14,
   "metadata": {},
   "outputs": [],
   "source": [
    "s = [0, 1]\n",
    "s += [(s := [s[1], s[0] + s[1]]) and s[1] for k in range(10)]"
   ]
  },
  {
   "cell_type": "code",
   "execution_count": 15,
   "metadata": {},
   "outputs": [
    {
     "data": {
      "text/plain": [
       "[0, 1, 1, 2, 3, 5, 8, 13, 21, 34, 55, 89]"
      ]
     },
     "execution_count": 15,
     "metadata": {},
     "output_type": "execute_result"
    }
   ],
   "source": [
    "s"
   ]
  },
  {
   "cell_type": "markdown",
   "metadata": {},
   "source": [
    "#### 4. Assuming that we have some email addresses in the &quot;username@companyname.com&quot; format,\n",
    "#### please write program to print the user name of a given email address. Both user names and\n",
    "#### company names are composed of letters only.\n",
    "#### Example:\n",
    "#### If the following email address is given as input to the program:\n",
    "#### john@google.com\n",
    "#### Then, the output of the program should be:\n",
    "#### john\n"
   ]
  },
  {
   "cell_type": "code",
   "execution_count": 16,
   "metadata": {},
   "outputs": [
    {
     "name": "stdout",
     "output_type": "stream",
     "text": [
      "enter valid mail id: john@google.com\n"
     ]
    },
    {
     "data": {
      "text/plain": [
       "'john'"
      ]
     },
     "execution_count": 16,
     "metadata": {},
     "output_type": "execute_result"
    }
   ],
   "source": [
    "mail_id=input('enter valid mail id: ')\n",
    "mail_id.split('@')[0]"
   ]
  },
  {
   "cell_type": "markdown",
   "metadata": {},
   "source": [
    "#### 5. Define a class named Shape and its subclass Square. The Square class has an init function\n",
    "#### which takes a length as argument. Both classes have a area function which can print the area\n",
    "#### of the shape where Shape&#39;s area is 0 by default."
   ]
  },
  {
   "cell_type": "code",
   "execution_count": 2,
   "metadata": {},
   "outputs": [
    {
     "name": "stdout",
     "output_type": "stream",
     "text": [
      "100\n"
     ]
    }
   ],
   "source": [
    "class Shape():\n",
    "    def area(self):\n",
    "        return 0\n",
    "    \n",
    "class Square(Shape):\n",
    "    def __init__(self,length):\n",
    "        self.length=length\n",
    "        \n",
    "    def area(self):\n",
    "        return self.length*self.length\n",
    "a=Shape()\n",
    "b=Square(10)\n",
    "print(b.area())"
   ]
  },
  {
   "cell_type": "code",
   "execution_count": null,
   "metadata": {},
   "outputs": [],
   "source": []
  }
 ],
 "metadata": {
  "kernelspec": {
   "display_name": "Python 3",
   "language": "python",
   "name": "python3"
  },
  "language_info": {
   "codemirror_mode": {
    "name": "ipython",
    "version": 3
   },
   "file_extension": ".py",
   "mimetype": "text/x-python",
   "name": "python",
   "nbconvert_exporter": "python",
   "pygments_lexer": "ipython3",
   "version": "3.8.5"
  }
 },
 "nbformat": 4,
 "nbformat_minor": 4
}
