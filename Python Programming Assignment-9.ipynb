{
 "cells": [
  {
   "cell_type": "markdown",
   "metadata": {},
   "source": [
    "#### 1. Write a python program to check if the given number is Disarium number"
   ]
  },
  {
   "cell_type": "code",
   "execution_count": 19,
   "metadata": {},
   "outputs": [
    {
     "name": "stdout",
     "output_type": "stream",
     "text": [
      "Enter Positive Integer:175\n",
      "175  is a disarium number\n"
     ]
    }
   ],
   "source": [
    "num = int(input('Enter Positive Integer:')); \n",
    "n=num\n",
    "l=len(str(n))\n",
    "sum=0\n",
    "\n",
    "     \n",
    "#Calculates the sum of digits powered with their respective position    \n",
    "while(n > 0):    \n",
    "    r = n%10 \n",
    "    sum = sum + int(r**l)\n",
    "    n = n//10    \n",
    "    l = l - 1   \n",
    "\n",
    "#Checks whether the sum is equal to the number itself    \n",
    "if(sum == num):    \n",
    "    print(num, \" is a disarium number\")   \n",
    "else:    \n",
    "    print(num, \" is not a disarium number\")   "
   ]
  },
  {
   "cell_type": "markdown",
   "metadata": {},
   "source": [
    "#### 2. Write a python program to print all disarium numbers between 1 to 100"
   ]
  },
  {
   "cell_type": "code",
   "execution_count": 29,
   "metadata": {},
   "outputs": [
    {
     "name": "stdout",
     "output_type": "stream",
     "text": [
      "[1, 2, 3, 4, 5, 6, 7, 8, 9, 89, 135, 175]\n"
     ]
    }
   ],
   "source": [
    "x=[]\n",
    "for i in range(1,200):\n",
    "    num=i\n",
    "    l=len(str(i))\n",
    "    sum=0\n",
    "    while(i>0):\n",
    "        r=i%10\n",
    "        sum=sum+int(r**l)\n",
    "        i=i//10\n",
    "        l=l-1    \n",
    "    if(sum == num):\n",
    "        x.append(num)\n",
    "        \n",
    "print(x)        "
   ]
  },
  {
   "cell_type": "markdown",
   "metadata": {},
   "source": [
    "#### 3. Write a python program to check if the given number is Happy Number"
   ]
  },
  {
   "cell_type": "code",
   "execution_count": 30,
   "metadata": {},
   "outputs": [
    {
     "name": "stdout",
     "output_type": "stream",
     "text": [
      "Enter Positive Integer:10\n",
      "10  is a happy number\n"
     ]
    }
   ],
   "source": [
    "num = int(input('Enter Positive Integer:')); \n",
    "n=num\n",
    "sum=0\n",
    "\n",
    "     \n",
    "#Calculates the sum of digits powered with their respective position    \n",
    "while(n > 0):    \n",
    "    r = n%10 \n",
    "    sum = sum + int(r**2)\n",
    "    n = n//10    \n",
    "#Checks whether the sum is equal to 1   \n",
    "if(sum == 1):    \n",
    "    print(num, \" is a happy number\")   \n",
    "else:    \n",
    "    print(num, \" is not a happy number\") "
   ]
  },
  {
   "cell_type": "markdown",
   "metadata": {},
   "source": [
    "#### 4. Write a python program to print all happy numbers between 1 and 100"
   ]
  },
  {
   "cell_type": "code",
   "execution_count": 33,
   "metadata": {},
   "outputs": [
    {
     "name": "stdout",
     "output_type": "stream",
     "text": [
      "[1, 10, 100]\n"
     ]
    }
   ],
   "source": [
    "x=[]\n",
    "for i in range(1,200):\n",
    "    num=i\n",
    "    sum=0\n",
    "    while(i>0):\n",
    "        r=i%10\n",
    "        sum=sum+int(r**2)\n",
    "        i=i//10\n",
    "           \n",
    "    if(sum == 1):\n",
    "        x.append(num)\n",
    "        \n",
    "print(x)    "
   ]
  },
  {
   "cell_type": "markdown",
   "metadata": {},
   "source": [
    "#### 5. Write a Python program to determine whether the given number is Harshad Number"
   ]
  },
  {
   "cell_type": "code",
   "execution_count": 35,
   "metadata": {},
   "outputs": [
    {
     "name": "stdout",
     "output_type": "stream",
     "text": [
      "Enter Positive Integer:156\n",
      "156  is a harshard number\n"
     ]
    }
   ],
   "source": [
    "num = int(input('Enter Positive Integer:')); \n",
    "n=num\n",
    "sum=0\n",
    "\n",
    "     \n",
    "#Calculates the sum of digits powered with their respective position    \n",
    "while(n > 0):    \n",
    "    r = n%10 \n",
    "    sum = sum + r\n",
    "    n = n//10    \n",
    "#Checks whether the num is divisible by sum    \n",
    "if(num%sum == 0):    \n",
    "    print(num, \" is a harshard number\")   \n",
    "else:    \n",
    "    print(num, \" is not a harshard number\") "
   ]
  },
  {
   "cell_type": "markdown",
   "metadata": {},
   "source": [
    "#### 6. Write a python program to print all pronic numbers between 1 and 100"
   ]
  },
  {
   "cell_type": "code",
   "execution_count": 48,
   "metadata": {},
   "outputs": [
    {
     "name": "stdout",
     "output_type": "stream",
     "text": [
      "Pronic numbers between 1 and 100: \n",
      "2 6 12 20 30 42 56 72 90 "
     ]
    }
   ],
   "source": [
    "def isPronicNumber(num):    \n",
    "    flag = False;    \n",
    "    for j in range(1, num+1):    \n",
    "        #Checks for pronic number by multiplying consecutive numbers    \n",
    "        if((j*(j+1)) == num):    \n",
    "            flag = True;    \n",
    "            break;    \n",
    "    return flag;    \n",
    "     \n",
    "#Displays pronic numbers between 1 and 100    \n",
    "print(\"Pronic numbers between 1 and 100: \");    \n",
    "for i in range(1, 101):    \n",
    "    if(isPronicNumber(i)):    \n",
    "        print(i,end=' ')            "
   ]
  },
  {
   "cell_type": "code",
   "execution_count": null,
   "metadata": {},
   "outputs": [],
   "source": []
  }
 ],
 "metadata": {
  "kernelspec": {
   "display_name": "Python 3",
   "language": "python",
   "name": "python3"
  },
  "language_info": {
   "codemirror_mode": {
    "name": "ipython",
    "version": 3
   },
   "file_extension": ".py",
   "mimetype": "text/x-python",
   "name": "python",
   "nbconvert_exporter": "python",
   "pygments_lexer": "ipython3",
   "version": "3.8.5"
  }
 },
 "nbformat": 4,
 "nbformat_minor": 4
}
