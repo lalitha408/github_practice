{
 "cells": [
  {
   "cell_type": "markdown",
   "metadata": {},
   "source": [
    "#### 1. Write a python program to find sum of elements in a list"
   ]
  },
  {
   "cell_type": "code",
   "execution_count": 29,
   "metadata": {},
   "outputs": [
    {
     "name": "stdout",
     "output_type": "stream",
     "text": [
      "sum of elements in a given list: 575\n"
     ]
    }
   ],
   "source": [
    "l=[1,3,4,567]\n",
    "sum=0\n",
    "for i in l:\n",
    "    sum=sum+i \n",
    "print('sum of elements in a given list:',sum)    "
   ]
  },
  {
   "cell_type": "markdown",
   "metadata": {},
   "source": [
    "#### 2. Write a python program to multiply all numbers in the list"
   ]
  },
  {
   "cell_type": "code",
   "execution_count": 30,
   "metadata": {},
   "outputs": [
    {
     "name": "stdout",
     "output_type": "stream",
     "text": [
      "multiplication of elements in a given list: 6804\n"
     ]
    }
   ],
   "source": [
    "l=[1,3,4,567]\n",
    "count=1\n",
    "for i in l:\n",
    "    count=count*i\n",
    "print('multiplication of elements in a given list:',count)"
   ]
  },
  {
   "cell_type": "markdown",
   "metadata": {},
   "source": [
    "#### 3. Write a python program to find smallest number in a list"
   ]
  },
  {
   "cell_type": "code",
   "execution_count": 31,
   "metadata": {},
   "outputs": [
    {
     "name": "stdout",
     "output_type": "stream",
     "text": [
      "0\n"
     ]
    }
   ],
   "source": [
    "l=[1,3,4,567,0]\n",
    "small=l[0]\n",
    "for i in l:\n",
    "    if i<small:\n",
    "        small=i\n",
    "print(small)        "
   ]
  },
  {
   "cell_type": "markdown",
   "metadata": {},
   "source": [
    "#### 4. Write a python program to find largest number in a list"
   ]
  },
  {
   "cell_type": "code",
   "execution_count": 32,
   "metadata": {},
   "outputs": [
    {
     "name": "stdout",
     "output_type": "stream",
     "text": [
      "567\n"
     ]
    }
   ],
   "source": [
    "l=[1,3,4,567,0]\n",
    "large=l[0]\n",
    "for i in l:\n",
    "    if i>large:\n",
    "        large=i\n",
    "print(large)        "
   ]
  },
  {
   "cell_type": "markdown",
   "metadata": {},
   "source": [
    "#### 5. Write a python program to find second largest number in a list"
   ]
  },
  {
   "cell_type": "code",
   "execution_count": 20,
   "metadata": {},
   "outputs": [
    {
     "name": "stdout",
     "output_type": "stream",
     "text": [
      "Enter number of elements in list: 5\n",
      "Enter elements: 2\n",
      "Enter elements: 3\n",
      "Enter elements: 8\n",
      "Enter elements: 9\n",
      "Enter elements: 4\n",
      "Second largest element is: 8\n"
     ]
    }
   ],
   "source": [
    "list1 = []\n",
    "num = int(input(\"Enter number of elements in list: \"))\n",
    "for i in range(1, num + 1):\n",
    "    ele = int(input(\"Enter elements: \"))\n",
    "    list1.append(ele)\n",
    "print(\"Second largest element is:\", sorted(list1)[-2])"
   ]
  },
  {
   "cell_type": "markdown",
   "metadata": {},
   "source": [
    "#### 6. Write a python program to find n largest numbers from a list"
   ]
  },
  {
   "cell_type": "code",
   "execution_count": 23,
   "metadata": {},
   "outputs": [
    {
     "name": "stdout",
     "output_type": "stream",
     "text": [
      "enter required number of large numbers:3\n",
      "[90, 100, 200]\n"
     ]
    }
   ],
   "source": [
    "l = [1,29,57,100,200,-45,90]\n",
    "n = int(input('enter required number of large numbers:'))\n",
    "l.sort()\n",
    "print(l[-n:])"
   ]
  },
  {
   "cell_type": "markdown",
   "metadata": {},
   "source": [
    "#### 7. Write a python program to print even numbers in a list"
   ]
  },
  {
   "cell_type": "code",
   "execution_count": 7,
   "metadata": {},
   "outputs": [
    {
     "name": "stdout",
     "output_type": "stream",
     "text": [
      "even numbers given list: [6, 8]\n"
     ]
    }
   ],
   "source": [
    "x=[]\n",
    "l=[1,23,6,8,9]\n",
    "for i in l:\n",
    "    if i%2==0:\n",
    "        x.append(i)\n",
    "print('even numbers given list:',x)        "
   ]
  },
  {
   "cell_type": "markdown",
   "metadata": {},
   "source": [
    "#### 8. Write a python program to print odd numbers in a list"
   ]
  },
  {
   "cell_type": "code",
   "execution_count": 8,
   "metadata": {},
   "outputs": [
    {
     "name": "stdout",
     "output_type": "stream",
     "text": [
      "odd numbers given list: [1, 23, 9]\n"
     ]
    }
   ],
   "source": [
    "x=[]\n",
    "l=[1,23,6,8,9]\n",
    "for i in l:\n",
    "    if i%2!=0:\n",
    "        x.append(i)\n",
    "print('odd numbers given list:',x) "
   ]
  },
  {
   "cell_type": "markdown",
   "metadata": {},
   "source": [
    "#### 9. Write a python program to remove empty list from list"
   ]
  },
  {
   "cell_type": "code",
   "execution_count": 25,
   "metadata": {},
   "outputs": [
    {
     "name": "stdout",
     "output_type": "stream",
     "text": [
      "[5, 6, 3, 9]\n"
     ]
    }
   ],
   "source": [
    "test_list = [5, 6, [], 3, [], [], 9]\n",
    "# using list comprehension\n",
    "res = [i for i in test_list if  i!= []]\n",
    "print(res)"
   ]
  },
  {
   "cell_type": "markdown",
   "metadata": {},
   "source": [
    "#### 10. Write a python program to cloning or copying a list"
   ]
  },
  {
   "cell_type": "code",
   "execution_count": 35,
   "metadata": {},
   "outputs": [
    {
     "name": "stdout",
     "output_type": "stream",
     "text": [
      "Original list: [4, 8, 2, 10, 15, 18]\n",
      "Copy list: [4, 8, 2, 10, 15, 18]\n"
     ]
    }
   ],
   "source": [
    "l1 = [4, 8, 2, 10, 15, 18]\n",
    "l1_copy=l1\n",
    "print('Original list:',l1)\n",
    "print('Copy list:',l1_copy)"
   ]
  },
  {
   "cell_type": "markdown",
   "metadata": {},
   "source": [
    "#### 11. Write a python program to count occurances of an element in a list"
   ]
  },
  {
   "cell_type": "code",
   "execution_count": 42,
   "metadata": {},
   "outputs": [
    {
     "name": "stdout",
     "output_type": "stream",
     "text": [
      "{1: 1, 2: 2, 3: 6}\n"
     ]
    }
   ],
   "source": [
    "l=[1,2,2,3,3,3,3,3,3]\n",
    "x = {}\n",
    "for item in l:\n",
    "    if (item in x):\n",
    "        x[item] += 1\n",
    "    else:\n",
    "        x[item] = 1\n",
    "print(x)"
   ]
  },
  {
   "cell_type": "code",
   "execution_count": null,
   "metadata": {},
   "outputs": [],
   "source": []
  }
 ],
 "metadata": {
  "kernelspec": {
   "display_name": "Python 3",
   "language": "python",
   "name": "python3"
  },
  "language_info": {
   "codemirror_mode": {
    "name": "ipython",
    "version": 3
   },
   "file_extension": ".py",
   "mimetype": "text/x-python",
   "name": "python",
   "nbconvert_exporter": "python",
   "pygments_lexer": "ipython3",
   "version": "3.8.5"
  }
 },
 "nbformat": 4,
 "nbformat_minor": 4
}
