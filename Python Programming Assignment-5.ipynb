{
 "cells": [
  {
   "cell_type": "markdown",
   "metadata": {},
   "source": [
    "#### 1. Write a python program to find LCM"
   ]
  },
  {
   "cell_type": "code",
   "execution_count": 5,
   "metadata": {},
   "outputs": [
    {
     "name": "stdout",
     "output_type": "stream",
     "text": [
      "Enter a Value:24\n",
      "Enter b Value:45\n",
      "The L.C.M is 360\n"
     ]
    }
   ],
   "source": [
    "def lcm(a,b):\n",
    "    if a > b:\n",
    "        large = a\n",
    "    else:\n",
    "        large = b\n",
    "\n",
    "    while True:\n",
    "        if((large % a == 0) and (large % b == 0)):\n",
    "            lcm = large\n",
    "            break\n",
    "        large += 1\n",
    "\n",
    "    return lcm\n",
    "a=int(input('Enter a Value:'))\n",
    "b=int(input('Enter b Value:'))\n",
    "\n",
    "print(\"The L.C.M is\", lcm(a,b))"
   ]
  },
  {
   "cell_type": "markdown",
   "metadata": {},
   "source": [
    "#### 2. Write a python program to find HCF"
   ]
  },
  {
   "cell_type": "code",
   "execution_count": 8,
   "metadata": {},
   "outputs": [
    {
     "name": "stdout",
     "output_type": "stream",
     "text": [
      "Enter a Value:36\n",
      "Enter b Value:9\n",
      "The H.C.F is 9\n"
     ]
    }
   ],
   "source": [
    "def hcf(a,b):\n",
    "    if a > b:\n",
    "        small = a\n",
    "    else:\n",
    "        small = b\n",
    "\n",
    "    for i in range(1,small+1):\n",
    "        if((a % i == 0) and (b % i == 0)):\n",
    "            hcf=i\n",
    "            \n",
    "    return hcf\n",
    "a=int(input('Enter a Value:'))\n",
    "b=int(input('Enter b Value:'))\n",
    "\n",
    "print(\"The H.C.F is\", hcf(a,b))"
   ]
  },
  {
   "cell_type": "markdown",
   "metadata": {},
   "source": [
    "#### 3. Write a python program to convert Decimal to BInary,Octal to Hexadecimal"
   ]
  },
  {
   "cell_type": "code",
   "execution_count": 38,
   "metadata": {},
   "outputs": [
    {
     "name": "stdout",
     "output_type": "stream",
     "text": [
      "Enter Decimal Number:5\n",
      "0101"
     ]
    }
   ],
   "source": [
    "def DecimalToBinary(n):\n",
    "    if n >= 1:\n",
    "        DecimalToBinary(n // 2)\n",
    "    print(n % 2, end = '')\n",
    "n = int(input('Enter Decimal Number:')) \n",
    "DecimalToBinary(n)\n"
   ]
  },
  {
   "cell_type": "code",
   "execution_count": 33,
   "metadata": {},
   "outputs": [
    {
     "name": "stdout",
     "output_type": "stream",
     "text": [
      "Enter Octal Number: 45\n",
      "Equivalent Hexadecimal Value = 0x25\n"
     ]
    }
   ],
   "source": [
    "#Octal to Hexa Decimal \n",
    "octal_num = input(\"Enter Octal Number: \")\n",
    "decimal_num = int(octal_num, 8)\n",
    "hex_num = hex(decimal_num)\n",
    "print(\"Equivalent Hexadecimal Value =\", hex_num)\n"
   ]
  },
  {
   "cell_type": "markdown",
   "metadata": {},
   "source": [
    "#### 4. Write a python program to find ASCII value of a character"
   ]
  },
  {
   "cell_type": "code",
   "execution_count": 39,
   "metadata": {},
   "outputs": [
    {
     "name": "stdout",
     "output_type": "stream",
     "text": [
      "enter any character:p\n",
      "The ASCII value of ' p ' is 112\n"
     ]
    }
   ],
   "source": [
    "a=input('enter any character:')\n",
    "print(\"The ASCII value of '\", a,\"' is\", ord(a))"
   ]
  },
  {
   "cell_type": "markdown",
   "metadata": {},
   "source": [
    "#### 5. write a python program to make simple calculator with 4 basic mathematical operations"
   ]
  },
  {
   "cell_type": "code",
   "execution_count": 41,
   "metadata": {},
   "outputs": [
    {
     "name": "stdout",
     "output_type": "stream",
     "text": [
      "Select operation.\n",
      "1.Additon\n",
      "2.Subtraction\n",
      "3.Multiplication\n",
      "4.Division\n",
      "Enter choice(1/2/3/4): 4\n",
      "Enter first number: 4\n",
      "Enter second number: 7\n",
      "4.0 / 7.0 = 0.5714285714285714\n"
     ]
    }
   ],
   "source": [
    "#function to adds two numbers\n",
    "def add(x, y):\n",
    "    return x + y\n",
    "\n",
    "#function to subtract two numbers\n",
    "def subtract(x, y):\n",
    "    return x - y\n",
    "\n",
    "#function multiply two numbers\n",
    "def multiply(x, y):\n",
    "    return x * y\n",
    "\n",
    "#function to divide two numbers\n",
    "def divide(x, y):\n",
    "    return x / y\n",
    "\n",
    "print(\"Select operation.\")\n",
    "print(\"1.Additon\")\n",
    "print(\"2.Subtraction\")\n",
    "print(\"3.Multiplication\")\n",
    "print(\"4.Division\")\n",
    "\n",
    "while True:\n",
    "    # Take input from the user\n",
    "    choice = input(\"Enter choice(1/2/3/4): \")\n",
    "\n",
    "    # Check if choice is one of the four options\n",
    "    if choice in ('1', '2', '3', '4'):\n",
    "        a = float(input(\"Enter first number: \"))\n",
    "        b = float(input(\"Enter second number: \"))\n",
    "        if choice == '1':\n",
    "            print(a, \"+\", b, \"=\", add(a, b))\n",
    "\n",
    "        elif choice == '2':\n",
    "            print(a, \"-\", b, \"=\", subtract(a,b))\n",
    "\n",
    "        elif choice == '3':\n",
    "            print(a, \"*\", b, \"=\", multiply(a,b))\n",
    "\n",
    "        elif choice == '4':\n",
    "            print(a, \"/\", b, \"=\", divide(a,b))\n",
    "        break\n",
    "    else:\n",
    "        print(\"Invalid Input\")"
   ]
  },
  {
   "cell_type": "code",
   "execution_count": null,
   "metadata": {},
   "outputs": [],
   "source": []
  }
 ],
 "metadata": {
  "kernelspec": {
   "display_name": "Python 3",
   "language": "python",
   "name": "python3"
  },
  "language_info": {
   "codemirror_mode": {
    "name": "ipython",
    "version": 3
   },
   "file_extension": ".py",
   "mimetype": "text/x-python",
   "name": "python",
   "nbconvert_exporter": "python",
   "pygments_lexer": "ipython3",
   "version": "3.8.5"
  }
 },
 "nbformat": 4,
 "nbformat_minor": 4
}
