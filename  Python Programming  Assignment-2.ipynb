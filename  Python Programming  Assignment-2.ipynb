{
 "cells": [
  {
   "cell_type": "markdown",
   "metadata": {},
   "source": [
    "#### 1. write a python program to convert kilometers to miles"
   ]
  },
  {
   "cell_type": "code",
   "execution_count": 4,
   "metadata": {},
   "outputs": [
    {
     "name": "stdout",
     "output_type": "stream",
     "text": [
      "Enter distance in KM:2.5\n",
      "Distance in Miles: 1.5534999999999999\n"
     ]
    }
   ],
   "source": [
    "k=float(input(\"Enter distance in KM:\"))\n",
    "miles=0.6214*k\n",
    "print(\"Distance in Miles:\",miles)"
   ]
  },
  {
   "cell_type": "markdown",
   "metadata": {},
   "source": [
    "##### 2. Write a python program tto convert Celsius to Fahrenheit"
   ]
  },
  {
   "cell_type": "code",
   "execution_count": 6,
   "metadata": {},
   "outputs": [
    {
     "name": "stdout",
     "output_type": "stream",
     "text": [
      "Enter temperature in celsius:2\n",
      "Temperature in Fahrenheit: 35.6\n"
     ]
    }
   ],
   "source": [
    "c=float(input(\"Enter temperature in celsius:\"))\n",
    "f=(c*9/5)+32\n",
    "print(\"Temperature in Fahrenheit:\",f)"
   ]
  },
  {
   "cell_type": "markdown",
   "metadata": {},
   "source": [
    "#### 3. Write a python program to display calendar"
   ]
  },
  {
   "cell_type": "code",
   "execution_count": 1,
   "metadata": {},
   "outputs": [
    {
     "name": "stdout",
     "output_type": "stream",
     "text": [
      "Enter Year:1997\n",
      "Enter Month8\n",
      "    August 1997\n",
      "Mo Tu We Th Fr Sa Su\n",
      "             1  2  3\n",
      " 4  5  6  7  8  9 10\n",
      "11 12 13 14 15 16 17\n",
      "18 19 20 21 22 23 24\n",
      "25 26 27 28 29 30 31\n",
      "\n"
     ]
    }
   ],
   "source": [
    "import calendar\n",
    "yyyy=int(input(\"Enter Year:\"))\n",
    "mm=int(input(\"Enter Month\"))\n",
    "print(calendar.month(yyyy,mm))"
   ]
  },
  {
   "cell_type": "markdown",
   "metadata": {},
   "source": [
    "#### 4. Write a python program to solve quadratic equation"
   ]
  },
  {
   "cell_type": "code",
   "execution_count": 9,
   "metadata": {},
   "outputs": [
    {
     "name": "stdout",
     "output_type": "stream",
     "text": [
      "Enter a value: 2\n",
      "Enter b value: 6\n",
      "Enter c value: 4\n",
      "The solution are (-2+0j) and (-1+0j)\n"
     ]
    }
   ],
   "source": [
    "import cmath  \n",
    "a = float(input('Enter a value: '))  \n",
    "b = float(input('Enter b value: '))  \n",
    "c = float(input('Enter c value: '))   \n",
    "d = (b**2) - (4*a*c)  \n",
    "sol1 = (-b-cmath.sqrt(d))/(2*a)  \n",
    "sol2 = (-b+cmath.sqrt(d))/(2*a)  \n",
    "print('The solution are {0} and {1}'.format(sol1,sol2))  "
   ]
  },
  {
   "cell_type": "markdown",
   "metadata": {},
   "source": [
    "#### 5. Write a python program to swap two variables without temp variable"
   ]
  },
  {
   "cell_type": "code",
   "execution_count": 8,
   "metadata": {},
   "outputs": [
    {
     "name": "stdout",
     "output_type": "stream",
     "text": [
      "Enter e value:10\n",
      "Enter f value:15\n",
      "e value after swaping: 15\n",
      "f value after swaping: 10\n"
     ]
    }
   ],
   "source": [
    "e=input(\"Enter e value:\")\n",
    "f=input(\"Enter f value:\")\n",
    "e,f=f,e\n",
    "print(\"e value after swaping:\",e)\n",
    "print(\"f value after swaping:\",f)"
   ]
  },
  {
   "cell_type": "code",
   "execution_count": null,
   "metadata": {},
   "outputs": [],
   "source": []
  }
 ],
 "metadata": {
  "kernelspec": {
   "display_name": "Python 3",
   "language": "python",
   "name": "python3"
  },
  "language_info": {
   "codemirror_mode": {
    "name": "ipython",
    "version": 3
   },
   "file_extension": ".py",
   "mimetype": "text/x-python",
   "name": "python",
   "nbconvert_exporter": "python",
   "pygments_lexer": "ipython3",
   "version": "3.8.5"
  }
 },
 "nbformat": 4,
 "nbformat_minor": 4
}
