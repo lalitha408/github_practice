{
 "cells": [
  {
   "cell_type": "markdown",
   "metadata": {},
   "source": [
    "#### 1. Write a python program to find the factorial of  number "
   ]
  },
  {
   "cell_type": "code",
   "execution_count": 3,
   "metadata": {},
   "outputs": [
    {
     "name": "stdout",
     "output_type": "stream",
     "text": [
      "Entet Positive Integer:6\n",
      "factorial of given number is 720\n"
     ]
    }
   ],
   "source": [
    "n=int(input('Entet Positive Integer:'))\n",
    "fact=1\n",
    "if n==0:\n",
    "    print('factorial of Zero is 1')\n",
    "elif n>0:    \n",
    "    for i in range(1,n+1):\n",
    "        fact=fact*i\n",
    "        \n",
    "    print('factorial of given number is',fact)    \n",
    "else:\n",
    "    pass\n",
    "    "
   ]
  },
  {
   "cell_type": "markdown",
   "metadata": {},
   "source": [
    "#### 2. Write a python program to display the multiplication table"
   ]
  },
  {
   "cell_type": "code",
   "execution_count": 11,
   "metadata": {},
   "outputs": [
    {
     "name": "stdout",
     "output_type": "stream",
     "text": [
      "Enter Positive Enteger:7\n",
      "7 x 1 = 7\n",
      "7 x 2 = 14\n",
      "7 x 3 = 21\n",
      "7 x 4 = 28\n",
      "7 x 5 = 35\n",
      "7 x 6 = 42\n",
      "7 x 7 = 49\n",
      "7 x 8 = 56\n",
      "7 x 9 = 63\n",
      "7 x 10 = 70\n"
     ]
    }
   ],
   "source": [
    "n=int(input('Enter Positive Enteger:'))\n",
    "for i in range(1,11):\n",
    "    print(n,'x',i,'=',n*i)"
   ]
  },
  {
   "cell_type": "markdown",
   "metadata": {},
   "source": [
    "#### 3. Write a python program to print the fibonacci sequence"
   ]
  },
  {
   "cell_type": "code",
   "execution_count": 17,
   "metadata": {},
   "outputs": [
    {
     "name": "stdout",
     "output_type": "stream",
     "text": [
      "Enter Positive Integer:5\n",
      "0,1,1,2,3,"
     ]
    }
   ],
   "source": [
    "a,b=0,1\n",
    "count=0\n",
    "n=int(input('Enter Positive Integer:'))\n",
    "while count<n:\n",
    "    print(a,end=',')\n",
    "    new=a+b\n",
    "    a=b\n",
    "    b=new\n",
    "    count=count+1\n"
   ]
  },
  {
   "cell_type": "markdown",
   "metadata": {},
   "source": [
    "#### 4. Write a python program to check Amstrong Number"
   ]
  },
  {
   "cell_type": "code",
   "execution_count": 21,
   "metadata": {},
   "outputs": [
    {
     "name": "stdout",
     "output_type": "stream",
     "text": [
      "Enter a number: 153\n",
      "153 is not an Armstrong number\n"
     ]
    }
   ],
   "source": [
    "n = int(input(\"Enter a number: \"))\n",
    "l = len(str(n))\n",
    "count = 0\n",
    "temp = n\n",
    "while temp > 0:\n",
    "    d = temp % 10\n",
    "    count += d * l\n",
    "    temp //= 10\n",
    "if n == count:\n",
    "    print(n,\"is an Armstrong number\")\n",
    "else:\n",
    "    print(n,\"is not an Armstrong number\")"
   ]
  },
  {
   "cell_type": "markdown",
   "metadata": {},
   "source": [
    "#### 5. Write a python program to find amstrong number in an interval"
   ]
  },
  {
   "cell_type": "code",
   "execution_count": 34,
   "metadata": {},
   "outputs": [
    {
     "name": "stdout",
     "output_type": "stream",
     "text": [
      "Enter lower intervel: 100\n",
      "Enter upper intervel: 1000\n",
      "153\n",
      "370\n",
      "371\n",
      "407\n"
     ]
    }
   ],
   "source": [
    "lower = int(input('Enter lower intervel: '))\n",
    "upper = int(input('Enter upper intervel: '))\n",
    "\n",
    "for n in range(lower, upper + 1):\n",
    "    l = len(str(n))\n",
    "    count = 0\n",
    "    temp = n\n",
    "    while temp > 0:\n",
    "            digit = temp % 10\n",
    "            count += digit ** l\n",
    "            temp //= 10\n",
    "\n",
    "    if n == count:\n",
    "        print(n)        \n",
    "    "
   ]
  },
  {
   "cell_type": "markdown",
   "metadata": {},
   "source": [
    "#### 6. Write a python program to find sum of natural numbers"
   ]
  },
  {
   "cell_type": "code",
   "execution_count": 36,
   "metadata": {},
   "outputs": [
    {
     "name": "stdout",
     "output_type": "stream",
     "text": [
      "enter Positive integer:50\n",
      "sum of 50 natural numbers is: 1275.0\n"
     ]
    }
   ],
   "source": [
    "n=int(input('enter Positive integer:'))\n",
    "sum=n*(n+1)/2\n",
    "print('sum of',n,'natural numbers is:',sum)"
   ]
  },
  {
   "cell_type": "code",
   "execution_count": null,
   "metadata": {},
   "outputs": [],
   "source": []
  }
 ],
 "metadata": {
  "kernelspec": {
   "display_name": "Python 3",
   "language": "python",
   "name": "python3"
  },
  "language_info": {
   "codemirror_mode": {
    "name": "ipython",
    "version": 3
   },
   "file_extension": ".py",
   "mimetype": "text/x-python",
   "name": "python",
   "nbconvert_exporter": "python",
   "pygments_lexer": "ipython3",
   "version": "3.8.5"
  }
 },
 "nbformat": 4,
 "nbformat_minor": 4
}
