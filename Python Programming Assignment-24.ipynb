{
 "cells": [
  {
   "cell_type": "markdown",
   "metadata": {},
   "source": [
    "#### 1.Create a function that takes an integer and returns a list from 1 to the given number, where:\n",
    "#### 1. If the number can be divided evenly by 4, amplify it by 10 (i.e. return 10 times the number).\n",
    "#### 2. If the number cannot be divided evenly by 4, simply return the number.\n",
    "#### Examples\n",
    "#### amplify(4) ➞ [1, 2, 3, 40]\n",
    "#### amplify(3) ➞ [1, 2, 3]\n",
    "#### amplify(25) ➞ [1, 2, 3, 40, 5, 6, 7, 80, 9, 10, 11, 120, 13, 14, 15, 160, 17, 18, 19, 200, 21, 22, 23, 240, 25]\n",
    "#### Notes\n",
    "#### The given integer will always be equal to or greater than 1.\n",
    "#### Include the number (see example above).\n",
    "#### To perform this problem with its intended purpose, try doing it with list\n",
    "#### comprehensions. If that&#39;s too difficult, just solve the challenge any way you can"
   ]
  },
  {
   "cell_type": "code",
   "execution_count": 2,
   "metadata": {},
   "outputs": [
    {
     "data": {
      "text/plain": [
       "[1, 2, 3, 40, 5, 6, 7]"
      ]
     },
     "execution_count": 2,
     "metadata": {},
     "output_type": "execute_result"
    }
   ],
   "source": [
    "def amplify(n):\n",
    "    l=[]\n",
    "    for i in range(1,n+1):\n",
    "        if i%4==0:\n",
    "            l.append(i*10)\n",
    "        else:\n",
    "            l.append(i)\n",
    "    return l        \n",
    "amplify(7)            "
   ]
  },
  {
   "cell_type": "markdown",
   "metadata": {},
   "source": [
    "#### 2.Create a function that takes a list of numbers and return the number that&#39;s unique.\n",
    "#### Examples\n",
    "#### unique([3, 3, 3, 7, 3, 3]) ➞ 7\n",
    "#### unique([0, 0, 0.77, 0, 0]) ➞ 0.77\n",
    "#### unique([0, 1, 1, 1, 1, 1, 1, 1]) ➞ 0\n",
    "#### Notes\n",
    "#### Test cases will always have exactly one unique number while all others are the same."
   ]
  },
  {
   "cell_type": "code",
   "execution_count": 2,
   "metadata": {},
   "outputs": [
    {
     "data": {
      "text/plain": [
       "0.77"
      ]
     },
     "execution_count": 2,
     "metadata": {},
     "output_type": "execute_result"
    }
   ],
   "source": [
    "def unique(l):\n",
    "    for i in l:\n",
    "        if l.count(i)==1:\n",
    "            return i\n",
    "unique([0.77, 1, 1, 1, 1, 1, 1, 1])       "
   ]
  },
  {
   "cell_type": "markdown",
   "metadata": {},
   "source": [
    "#### 3.Your task is to create a Circle constructor that creates a circle with a radius provided by an\n",
    "#### argument. The circles constructed must have two getters getArea() (PIr^2) and\n",
    "#### getPerimeter() (2PI*r) which give both respective areas and perimeter (circumference).\n",
    "#### For help with this class, I have provided you with a Rectangle constructor which you can use as a base example.\n",
    "#### Examples\n",
    "#### circy = Circle(11)\n",
    "#### circy.getArea()\n",
    "#### Should return 380.132711084365\n",
    "#### circy = Circle(4.44)\n",
    "#### circy.getPerimeter()\n",
    "#### Should return 27.897342763877365\n",
    "#### Notes\n",
    "#### Round results up to the nearest integer"
   ]
  },
  {
   "cell_type": "code",
   "execution_count": null,
   "metadata": {},
   "outputs": [],
   "source": []
  },
  {
   "cell_type": "markdown",
   "metadata": {},
   "source": [
    "#### 4.Create a function that takes a list of strings and return a list, sorted from shortest to longest.\n",
    "#### Examples\n",
    "#### sort_by_length([&quot;Google&quot;, &quot;Apple&quot;, &quot;Microsoft&quot;])\n",
    "#### ➞ [&quot;Apple&quot;, &quot;Google&quot;, &quot;Microsoft&quot;]\n",
    "#### sort_by_length([&quot;Leonardo&quot;, &quot;Michelangelo&quot;, &quot;Raphael&quot;, &quot;Donatello&quot;])\n",
    "#### ➞ [&quot;Raphael&quot;, &quot;Leonardo&quot;, &quot;Donatello&quot;, &quot;Michelangelo&quot;]\n",
    "#### sort_by_length([&quot;Turing&quot;, &quot;Einstein&quot;, &quot;Jung&quot;])\n",
    "#### ➞ [&quot;Jung&quot;, &quot;Turing&quot;, &quot;Einstein&quot;]\n",
    "#### Notes\n",
    "#### All test cases contain lists with strings of different lengths, so you won&#39;t have to deal with\n",
    "#### multiple strings of the same length."
   ]
  },
  {
   "cell_type": "code",
   "execution_count": 15,
   "metadata": {},
   "outputs": [
    {
     "data": {
      "text/plain": [
       "['Jung', 'Turing', 'Einstein']"
      ]
     },
     "execution_count": 15,
     "metadata": {},
     "output_type": "execute_result"
    }
   ],
   "source": [
    "def sort_by_length(l):\n",
    "    l.sort(key=len)\n",
    "    return l\n",
    "sort_by_length([\"Turing\", \"Einstein\", \"Jung\"])"
   ]
  },
  {
   "cell_type": "markdown",
   "metadata": {},
   "source": [
    "#### 5.Create a function that validates whether three given integers form a Pythagorean triplet. The\n",
    "#### sum of the squares of the two smallest integers must equal the square of the largest number to be validated.\n",
    "#### Examples\n",
    "#### is_triplet(3, 4, 5) ➞ True\n",
    "#### 3² + 4² = 25\n",
    "#### 5² = 25\n",
    "#### is_triplet(13, 5, 12) ➞ True\n",
    "#### 5² + 12² = 169\n",
    "#### 13² = 169\n",
    "#### is_triplet(1, 2, 3) ➞ False\n",
    "#### 1² + 2² = 5\n",
    "#### 3² = 9\n",
    "#### Notes\n",
    "#### Numbers may not be given in a sorted order."
   ]
  },
  {
   "cell_type": "code",
   "execution_count": 7,
   "metadata": {},
   "outputs": [
    {
     "data": {
      "text/plain": [
       "True"
      ]
     },
     "execution_count": 7,
     "metadata": {},
     "output_type": "execute_result"
    }
   ],
   "source": [
    "def is_triplet(a,b,c):\n",
    "    if a>b & a>c:\n",
    "        large=a**2\n",
    "        sum=b**2+c**2\n",
    "        if large==sum:\n",
    "            return True\n",
    "    elif b>c:\n",
    "        large=b**2\n",
    "        sum=a**2+c**2\n",
    "        if large==sum:\n",
    "            return True\n",
    "    else:\n",
    "        large=c**2\n",
    "        sum=a**2+b**2\n",
    "        if large==sum:\n",
    "            return True\n",
    "    return False    \n",
    "is_triplet(3, 5, 4)        "
   ]
  },
  {
   "cell_type": "code",
   "execution_count": null,
   "metadata": {},
   "outputs": [],
   "source": []
  }
 ],
 "metadata": {
  "kernelspec": {
   "display_name": "Python 3",
   "language": "python",
   "name": "python3"
  },
  "language_info": {
   "codemirror_mode": {
    "name": "ipython",
    "version": 3
   },
   "file_extension": ".py",
   "mimetype": "text/x-python",
   "name": "python",
   "nbconvert_exporter": "python",
   "pygments_lexer": "ipython3",
   "version": "3.8.5"
  }
 },
 "nbformat": 4,
 "nbformat_minor": 4
}
