{
 "cells": [
  {
   "cell_type": "markdown",
   "metadata": {},
   "source": [
    "##### 1. Write a python program to find words which are greater than given length k"
   ]
  },
  {
   "cell_type": "code",
   "execution_count": 4,
   "metadata": {},
   "outputs": [
    {
     "name": "stdout",
     "output_type": "stream",
     "text": [
      "enter k value:4\n",
      "entet text:hi hello good morning\n",
      "['hello', 'morning']\n"
     ]
    }
   ],
   "source": [
    "def string_k(k, st):\n",
    "    s = []\n",
    "    text = st.split(\" \")\n",
    "    for x in text:\n",
    "        if len(x) > k:\n",
    "            s.append(x)\n",
    "    return s  \n",
    "k = int(input('enter k value:'))\n",
    "st =input('entet text:')\n",
    "print(string_k(k, st)) "
   ]
  },
  {
   "cell_type": "markdown",
   "metadata": {},
   "source": [
    "##### 2. Write a python program for removing i-th character from a string"
   ]
  },
  {
   "cell_type": "code",
   "execution_count": 6,
   "metadata": {},
   "outputs": [
    {
     "name": "stdout",
     "output_type": "stream",
     "text": [
      "enter string:hello\n",
      "enter i value:3\n",
      "helo\n"
     ]
    }
   ],
   "source": [
    "def remove(s, i): \n",
    "    for j in range(len(s)):\n",
    "        if j == i:\n",
    "            s = s.replace(s[i], \"\", 1)\n",
    "    return s\n",
    "s = input('enter string:')\n",
    "i = int(input('enter i value:'))\n",
    "print(remove(s, i))"
   ]
  },
  {
   "cell_type": "markdown",
   "metadata": {},
   "source": [
    "##### 3. Write a python program to split and join a string"
   ]
  },
  {
   "cell_type": "code",
   "execution_count": 8,
   "metadata": {},
   "outputs": [
    {
     "name": "stdout",
     "output_type": "stream",
     "text": [
      "enter string:hi hello good morning\n",
      "['hi', 'hello', 'good', 'morning']\n",
      "hi hello good morning\n"
     ]
    }
   ],
   "source": [
    "def split_string(string):\n",
    "    li_st = string.split(' ')\n",
    "    return li_st\n",
    "  \n",
    "def join_string(li_st):\n",
    "    string = ' '.join(li_st)\n",
    "    return string\n",
    "string = input('enter string:')\n",
    "li_st = split_string(string)\n",
    "print(li_st)\n",
    "new_string = join_string(li_st)\n",
    "print(new_string)"
   ]
  },
  {
   "cell_type": "markdown",
   "metadata": {},
   "source": [
    "##### 4. Write a python program to check if a given string ig is binary string or not"
   ]
  },
  {
   "cell_type": "code",
   "execution_count": 12,
   "metadata": {},
   "outputs": [
    {
     "name": "stdout",
     "output_type": "stream",
     "text": [
      "enter stringhi\n",
      "given string is not a binary string\n"
     ]
    }
   ],
   "source": [
    "def check(string) :\n",
    "    c = set(string) \n",
    "    s = {'0', '1'}\n",
    "    if s == c or c == {'0'} or c == {'1'}:\n",
    "        print(\"given string is binary string\")\n",
    "    else :\n",
    "        print(\"given string is not a binary string\")\n",
    "string = input(\"enter string\")\n",
    "check(string)"
   ]
  },
  {
   "cell_type": "markdown",
   "metadata": {},
   "source": [
    "##### 5. Write a python program to find uncommon words from two strings"
   ]
  },
  {
   "cell_type": "code",
   "execution_count": 15,
   "metadata": {},
   "outputs": [
    {
     "name": "stdout",
     "output_type": "stream",
     "text": [
      "enter first string:hi good morning\n",
      "enter second string:hello good morning\n",
      "['hi', 'hello']\n"
     ]
    }
   ],
   "source": [
    "def UncommonWords(s1, s2):\n",
    "    count = {}\n",
    "    for word in s1.split():\n",
    "        count[word] = count.get(word, 0) + 1\n",
    "    for word in s2.split():\n",
    "        count[word] = count.get(word, 0) + 1\n",
    "    return [word for word in count if count[word] == 1]\n",
    "s1 = input('enter first string:')\n",
    "s2 = input('enter second string:')\n",
    "print(UncommonWords(s1, s2))\n"
   ]
  },
  {
   "cell_type": "markdown",
   "metadata": {},
   "source": [
    "##### 6. Write a python program to find all duplicate characters in string"
   ]
  },
  {
   "cell_type": "code",
   "execution_count": 1,
   "metadata": {},
   "outputs": [
    {
     "name": "stdout",
     "output_type": "stream",
     "text": [
      "enter stringheellooo\n",
      "e l o "
     ]
    }
   ],
   "source": [
    "string = input(\"enter string\")\n",
    "duplicates = {}\n",
    "for char in string:\n",
    "    if char in duplicates:\n",
    "        duplicates[char] += 1\n",
    "    else:\n",
    "        duplicates[char] = 1\n",
    "for key, value in duplicates.items():\n",
    "    if value > 1:\n",
    "        print(key, end = \" \")\n"
   ]
  },
  {
   "cell_type": "markdown",
   "metadata": {},
   "source": [
    "##### 7. Write a Python program to check if a string contains special characters"
   ]
  },
  {
   "cell_type": "code",
   "execution_count": 12,
   "metadata": {},
   "outputs": [
    {
     "name": "stdout",
     "output_type": "stream",
     "text": [
      "enter a string:hi,good morning\n",
      "given string contains special characters\n"
     ]
    }
   ],
   "source": [
    "s=input('enter a string:')\n",
    "if any(i.isalnum()==False for i in s):\n",
    "    print('given string contains special characters')\n",
    "else:\n",
    "    print('given string does not have special characters')\n",
    "        "
   ]
  },
  {
   "cell_type": "code",
   "execution_count": null,
   "metadata": {},
   "outputs": [],
   "source": []
  }
 ],
 "metadata": {
  "kernelspec": {
   "display_name": "Python 3",
   "language": "python",
   "name": "python3"
  },
  "language_info": {
   "codemirror_mode": {
    "name": "ipython",
    "version": 3
   },
   "file_extension": ".py",
   "mimetype": "text/x-python",
   "name": "python",
   "nbconvert_exporter": "python",
   "pygments_lexer": "ipython3",
   "version": "3.8.5"
  }
 },
 "nbformat": 4,
 "nbformat_minor": 4
}
