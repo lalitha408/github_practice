{
 "cells": [
  {
   "cell_type": "markdown",
   "metadata": {},
   "source": [
    "#### 1.Write a function that takes a list and a number as arguments. Add the number to the end of\n",
    "#### the list, then remove the first element of the list. The function should then return the updated list.\n",
    "#### Examples\n",
    "#### next_in_line([5, 6, 7, 8, 9], 1) ➞ [6, 7, 8, 9, 1]\n",
    "#### next_in_line([7, 6, 3, 23, 17], 10) ➞ [6, 3, 23, 17, 10]\n",
    "#### next_in_line([1, 10, 20, 42 ], 6) ➞ [10, 20, 42, 6]\n",
    "#### next_in_line([], 6) ➞ &quot;No list has been selected&quot;"
   ]
  },
  {
   "cell_type": "code",
   "execution_count": 5,
   "metadata": {},
   "outputs": [
    {
     "data": {
      "text/plain": [
       "'No list has been selected'"
      ]
     },
     "execution_count": 5,
     "metadata": {},
     "output_type": "execute_result"
    }
   ],
   "source": [
    "def next_in_line(l,v):\n",
    "    if len(l)==0:\n",
    "        return 'No list has been selected'\n",
    "    else:\n",
    "        l.append(v)\n",
    "        l.remove(1)\n",
    "    return l    \n",
    "next_in_line([], 6)        \n",
    "        "
   ]
  },
  {
   "cell_type": "markdown",
   "metadata": {},
   "source": [
    "#### 2.Create the function that takes a list of dictionaries and returns the sum of people&#39;s budgets.\n",
    "#### Examples\n",
    "#### get_budgets([\n",
    "#### { &quot;name&quot;: &quot;John&quot;, &quot;age&quot;: 21, &quot;budget&quot;: 23000 },\n",
    "#### { &quot;name&quot;: &quot;Steve&quot;, &quot;age&quot;: 32, &quot;budget&quot;: 40000 },\n",
    "#### { &quot;name&quot;: &quot;Martin&quot;, &quot;age&quot;: 16, &quot;budget&quot;: 2700 }\n",
    "#### ]) ➞ 65700\n",
    "#### get_budgets([\n",
    "#### { &quot;name&quot;: &quot;John&quot;, &quot;age&quot;: 21, &quot;budget&quot;: 29000 },\n",
    "#### { &quot;name&quot;: &quot;Steve&quot;, &quot;age&quot;: 32, &quot;budget&quot;: 32000 },\n",
    "#### { &quot;name&quot;: &quot;Martin&quot;, &quot;age&quot;: 16, &quot;budget&quot;: 1600 }\n",
    "#### ]) ➞ 62600"
   ]
  },
  {
   "cell_type": "code",
   "execution_count": 19,
   "metadata": {},
   "outputs": [
    {
     "data": {
      "text/plain": [
       "62600"
      ]
     },
     "execution_count": 19,
     "metadata": {},
     "output_type": "execute_result"
    }
   ],
   "source": [
    "def get_budgets(*args):\n",
    "    sum=0\n",
    "    for i in args:\n",
    "        for j in i:\n",
    "            sum=sum+j['budget']\n",
    "    return sum     \n",
    "            \n",
    "        \n",
    "get_budgets([\n",
    "{ \"name\": \"John\", \"age\": 21, \"budget\": 29000 },\n",
    "{ \"name\": \"Steve\", \"age\": 32, \"budget\": 32000 },\n",
    "{ \"name\": \"Martin\", \"age\": 16, \"budget\": 1600 }\n",
    "]) "
   ]
  },
  {
   "cell_type": "markdown",
   "metadata": {},
   "source": [
    "#### 3.Create a function that takes a string and returns a string with its letters in alphabetical order.\n",
    "#### Examples\n",
    "#### alphabet_soup(&quot;hello&quot;) ➞ &quot;ehllo&quot;\n",
    "#### alphabet_soup(&quot;edabit&quot;) ➞ &quot;abdeit&quot;\n",
    "#### alphabet_soup(&quot;hacker&quot;) ➞ &quot;acehkr&quot;\n",
    "#### alphabet_soup(&quot;geek&quot;) ➞ &quot;eegk&quot;\n",
    "#### alphabet_soup(&quot;javascript&quot;) ➞ &quot;aacijprstv&quot;"
   ]
  },
  {
   "cell_type": "code",
   "execution_count": 22,
   "metadata": {},
   "outputs": [
    {
     "data": {
      "text/plain": [
       "'ehllo'"
      ]
     },
     "execution_count": 22,
     "metadata": {},
     "output_type": "execute_result"
    }
   ],
   "source": [
    "def alphabet_soup(s):\n",
    "    res=''\n",
    "    for i in sorted(s):\n",
    "        res=res+i\n",
    "    return res    \n",
    "alphabet_soup(\"hello\")"
   ]
  },
  {
   "cell_type": "markdown",
   "metadata": {},
   "source": [
    "#### 4.Suppose that you invest $10,000 for 10 years at an interest rate of 6% compounded monthly.\n",
    "#### What will be the value of your investment at the end of the 10 year period?\n",
    "#### Create a function that accepts the principal p, the term in years t, the interest rate r, and the\n",
    "#### number of compounding periods per year n. The function returns the value at the end of term\n",
    "#### rounded to the nearest cent.\n",
    "#### For the example above:\n",
    "#### compound_interest(10000, 10, 0.06, 12) ➞ 18193.97\n",
    "#### Note that the interest rate is given as a decimal and n=12 because with monthly compounding\n",
    "#### there are 12 periods per year. Compounding can also be done annually, quarterly, weekly, or daily.\n",
    "#### Examples\n",
    "#### compound_interest(100, 1, 0.05, 1) ➞ 105.0\n",
    "#### compound_interest(3500, 15, 0.1, 4) ➞ 15399.26\n",
    "#### compound_interest(100000, 20, 0.15, 365) ➞ 2007316.26"
   ]
  },
  {
   "cell_type": "code",
   "execution_count": 26,
   "metadata": {},
   "outputs": [
    {
     "data": {
      "text/plain": [
       "2007316.26"
      ]
     },
     "execution_count": 26,
     "metadata": {},
     "output_type": "execute_result"
    }
   ],
   "source": [
    "def compound_interest(p,t,r,n):\n",
    "    a=p*(1+(r/n))**(n*t)\n",
    "    return round(a,2)\n",
    "compound_interest(100000, 20, 0.15, 365)"
   ]
  },
  {
   "cell_type": "markdown",
   "metadata": {},
   "source": [
    "#### 5.Write a function that takes a list of elements and returns only the integers.\n",
    "#### Examples\n",
    "#### return_only_integer([9, 2, &quot;space&quot;, &quot;car&quot;, &quot;lion&quot;, 16]) ➞ [9, 2, 16]\n",
    "#### return_only_integer([&quot;hello&quot;, 81, &quot;basketball&quot;, 123, &quot;fox&quot;]) ➞ [81, 123]\n",
    "#### return_only_integer([10, &quot;121&quot;, 56, 20, &quot;car&quot;, 3, &quot;lion&quot;]) ➞ [10, 56, 20,3]\n",
    "#### return_only_integer([&quot;String&quot;, True, 3.3, 1]) ➞ [1]"
   ]
  },
  {
   "cell_type": "code",
   "execution_count": 28,
   "metadata": {},
   "outputs": [
    {
     "data": {
      "text/plain": [
       "[1]"
      ]
     },
     "execution_count": 28,
     "metadata": {},
     "output_type": "execute_result"
    }
   ],
   "source": [
    "def return_only_integer(l):\n",
    "    res=[]\n",
    "    for i in l:\n",
    "        if type(i)==int:\n",
    "            res.append(i)\n",
    "    return res   \n",
    "return_only_integer([\"String\", True, 3.3, 1])"
   ]
  },
  {
   "cell_type": "code",
   "execution_count": null,
   "metadata": {},
   "outputs": [],
   "source": []
  }
 ],
 "metadata": {
  "kernelspec": {
   "display_name": "Python 3",
   "language": "python",
   "name": "python3"
  },
  "language_info": {
   "codemirror_mode": {
    "name": "ipython",
    "version": 3
   },
   "file_extension": ".py",
   "mimetype": "text/x-python",
   "name": "python",
   "nbconvert_exporter": "python",
   "pygments_lexer": "ipython3",
   "version": "3.8.5"
  }
 },
 "nbformat": 4,
 "nbformat_minor": 4
}
