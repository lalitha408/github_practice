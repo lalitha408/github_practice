{
 "cells": [
  {
   "cell_type": "markdown",
   "metadata": {},
   "source": [
    "#### 1.Create a function that takes three parameters where:\n",
    "####  x is the start of the range (inclusive).\n",
    "#### y is the end of the range (inclusive).\n",
    "#### n is the divisor to be checked against.\n",
    "#### Return an ordered list with numbers in the range that are divisible by the third parameter n.\n",
    "#### Return an empty list if there are no numbers that are divisible by n.\n",
    "#### Examples\n",
    "#### list_operation(1, 10, 3) ➞ [3, 6, 9]\n",
    "#### list_operation(7, 9, 2) ➞ [8]\n",
    "#### list_operation(15, 20, 7) ➞ []"
   ]
  },
  {
   "cell_type": "code",
   "execution_count": 1,
   "metadata": {},
   "outputs": [
    {
     "data": {
      "text/plain": [
       "[8]"
      ]
     },
     "execution_count": 1,
     "metadata": {},
     "output_type": "execute_result"
    }
   ],
   "source": [
    "def list_operation(x,y,n):\n",
    "    res=[]\n",
    "    for i in range(x,y+1):\n",
    "        if i%n==0:\n",
    "            res.append(i)\n",
    "    return res \n",
    "list_operation(7, 9, 2)"
   ]
  },
  {
   "cell_type": "markdown",
   "metadata": {},
   "source": [
    "#### 2.Create a function that takes in two lists and returns True if the second list follows the first list\n",
    "#### by one element, and False otherwise. In other words, determine if the second list is the first\n",
    "#### list shifted to the right by 1.\n",
    "#### Examples\n",
    "#### simon_says([1, 2], [5, 1]) ➞ True\n",
    "#### simon_says([1, 2], [5, 5]) ➞ False\n",
    "#### simon_says([1, 2, 3, 4, 5], [0, 1, 2, 3, 4]) ➞ True\n",
    "#### simon_says([1, 2, 3, 4, 5], [5, 5, 1, 2, 3]) ➞ False\n",
    "#### Notes\n",
    "#### Both input lists will be of the same length, and will have a minimum length of 2.\n",
    "#### The values of the 0-indexed element in the second list and the n-1th indexed element\n",
    "#### in the first list do not matter."
   ]
  },
  {
   "cell_type": "code",
   "execution_count": 20,
   "metadata": {},
   "outputs": [
    {
     "data": {
      "text/plain": [
       "False"
      ]
     },
     "execution_count": 20,
     "metadata": {},
     "output_type": "execute_result"
    }
   ],
   "source": [
    "def simon_says(l1,l2):\n",
    "    for i in range(1,len(l1)):\n",
    "        if l1[i-1]==l2[i]:\n",
    "            return True\n",
    "    return False \n",
    "simon_says([1, 2, 3, 4, 5], [5, 5, 1, 2, 3]) "
   ]
  },
  {
   "cell_type": "markdown",
   "metadata": {},
   "source": [
    "#### 3.A group of friends have decided to start a secret society. The name will be the first letter of\n",
    "#### each of their names, sorted in alphabetical order.\n",
    "#### Create a function that takes in a list of names and returns the name of the secret society.\n",
    "#### Examples\n",
    "#### society_name([&quot;Adam&quot;, &quot;Sarah&quot;, &quot;Malcolm&quot;]) ➞ &quot;AMS&quot;\n",
    "#### society_name([&quot;Harry&quot;, &quot;Newt&quot;, &quot;Luna&quot;, &quot;Cho&quot;]) ➞ &quot;CHLN&quot;\n",
    "#### society_name([&quot;Phoebe&quot;, &quot;Chandler&quot;, &quot;Rachel&quot;, &quot;Ross&quot;, &quot;Monica&quot;,\n",
    "#### &quot;Joey&quot;])"
   ]
  },
  {
   "cell_type": "code",
   "execution_count": 14,
   "metadata": {},
   "outputs": [
    {
     "data": {
      "text/plain": [
       "'AMS'"
      ]
     },
     "execution_count": 14,
     "metadata": {},
     "output_type": "execute_result"
    }
   ],
   "source": [
    "def society_name(l):\n",
    "    name=''\n",
    "    for i in sorted(l):\n",
    "        name=name+i[0]\n",
    "    return name     \n",
    "        \n",
    "society_name([\"Adam\", \"Sarah\", \"Malcolm\"])"
   ]
  },
  {
   "cell_type": "markdown",
   "metadata": {},
   "source": [
    "#### 4.An isogram is a word that has no duplicate letters. Create a function that takes a string and\n",
    "#### returns either True or False depending on whether or not it&#39;s an &quot;isogram&quot;.\n",
    "#### Examples\n",
    "#### is_isogram(&quot;Algorism&quot;) ➞ True\n",
    "#### is_isogram(&quot;PasSword&quot;) ➞ False\n",
    "#### Not case sensitive.\n",
    "#### is_isogram(&quot;Consecutive&quot;) ➞ False\n",
    "#### Notes\n",
    "#### Ignore letter case (should not be case sensitive).\n",
    "#### All test cases contain valid one word strings."
   ]
  },
  {
   "cell_type": "code",
   "execution_count": 9,
   "metadata": {},
   "outputs": [
    {
     "data": {
      "text/plain": [
       "False"
      ]
     },
     "execution_count": 9,
     "metadata": {},
     "output_type": "execute_result"
    }
   ],
   "source": [
    "def is_isogram(s):\n",
    "    l=[]\n",
    "    for i in s:\n",
    "        if i not in l:\n",
    "            l.append(i)\n",
    "        else:\n",
    "            return False\n",
    "    return True   \n",
    "is_isogram(\"sssss\")        "
   ]
  },
  {
   "cell_type": "markdown",
   "metadata": {},
   "source": [
    "#### 5.Create a function that takes a string and returns True or False, depending on whether the\n",
    "#### characters are in order or not.\n",
    "#### Examples\n",
    "#### is_in_order(&quot;abc&quot;) ➞ True\n",
    "#### is_in_order(&quot;edabit&quot;) ➞ False\n",
    "#### is_in_order(&quot;123&quot;) ➞ True\n",
    "#### is_in_order(&quot;xyzz&quot;) ➞ True\n",
    "#### Notes\n",
    "#### You don&#39;t have to handle empty strings."
   ]
  },
  {
   "cell_type": "code",
   "execution_count": 4,
   "metadata": {},
   "outputs": [
    {
     "data": {
      "text/plain": [
       "False"
      ]
     },
     "execution_count": 4,
     "metadata": {},
     "output_type": "execute_result"
    }
   ],
   "source": [
    "def is_in_order(s):\n",
    "    for i in range(1,len(s)):\n",
    "        if s[i]<s[i-1]:\n",
    "            return False\n",
    "    return True        \n",
    "            \n",
    "is_in_order(\"abcabc\")  "
   ]
  },
  {
   "cell_type": "code",
   "execution_count": null,
   "metadata": {},
   "outputs": [],
   "source": []
  }
 ],
 "metadata": {
  "kernelspec": {
   "display_name": "Python 3",
   "language": "python",
   "name": "python3"
  },
  "language_info": {
   "codemirror_mode": {
    "name": "ipython",
    "version": 3
   },
   "file_extension": ".py",
   "mimetype": "text/x-python",
   "name": "python",
   "nbconvert_exporter": "python",
   "pygments_lexer": "ipython3",
   "version": "3.8.5"
  }
 },
 "nbformat": 4,
 "nbformat_minor": 4
}
