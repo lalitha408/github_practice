{
 "cells": [
  {
   "cell_type": "markdown",
   "metadata": {},
   "source": [
    "#### 1. Write a function that stutters a word as if someone is struggling to read it. The\n",
    "#### first two letters are repeated twice with an ellipsis ... and space after each, and then the\n",
    "#### word is pronounced with a question mark ?.\n",
    "#### Examples\n",
    "#### stutter(&quot;incredible&quot;) ➞ &quot;in... in... incredible?&quot;\n",
    "#### stutter(&quot;enthusiastic&quot;) ➞ &quot;en... en... enthusiastic?&quot;\n",
    "#### stutter(&quot;outstanding&quot;) ➞ &quot;ou... ou... outstanding?&quot;\n",
    "\n",
    "#### Hint :- Assume all input is in lower case and at least two characters long."
   ]
  },
  {
   "cell_type": "code",
   "execution_count": 10,
   "metadata": {},
   "outputs": [
    {
     "data": {
      "text/plain": [
       "'in... in... incredible?'"
      ]
     },
     "execution_count": 10,
     "metadata": {},
     "output_type": "execute_result"
    }
   ],
   "source": [
    "def stutter(s):\n",
    "    s=(s[0:2]+'... ')*2+s+'?'    \n",
    "    return s   \n",
    "stutter('incredible')"
   ]
  },
  {
   "cell_type": "markdown",
   "metadata": {},
   "source": [
    "#### 2.Create a function that takes an angle in radians and returns the corresponding\n",
    "#### angle in degrees rounded to one decimal place."
   ]
  },
  {
   "cell_type": "code",
   "execution_count": 12,
   "metadata": {},
   "outputs": [
    {
     "name": "stdout",
     "output_type": "stream",
     "text": [
      "enter radians: 1\n",
      "57.3\n"
     ]
    }
   ],
   "source": [
    "radians=float(input('enter radians: '))\n",
    "degrees=radians*180/(22/7)\n",
    "print(round(degrees,1))"
   ]
  },
  {
   "cell_type": "markdown",
   "metadata": {},
   "source": [
    "#### 3. In this challenge, establish if a given integer num is a Curzon number. If 1 plus\n",
    "#### 2 elevated to num is exactly divisible by 1 plus 2 multiplied by num, then num is a Curzon number.\n",
    "#### Given a non-negative integer num, implement a function that returns True if num is a Curzon\n",
    "#### number, or False otherwise.\n",
    "#### Examples\n",
    "#### is_curzon(5) ➞ True\n",
    "#### 2 ** 5 + 1 = 33\n",
    "#### 2 * 5 + 1 = 11\n",
    "#### 33 is a multiple of 11\n",
    "#### is_curzon(10) ➞ False\n",
    "#### 2 ** 10 + 1 = 1025\n",
    "#### 2 * 10 + 1 = 21\n",
    "#### 1025 is not a multiple of 21"
   ]
  },
  {
   "cell_type": "code",
   "execution_count": 16,
   "metadata": {},
   "outputs": [
    {
     "data": {
      "text/plain": [
       "True"
      ]
     },
     "execution_count": 16,
     "metadata": {},
     "output_type": "execute_result"
    }
   ],
   "source": [
    "def is_curzon(n):\n",
    "    power=2**n+1\n",
    "    divide=2*n+1\n",
    "    if power%divide==0:\n",
    "        return True\n",
    "    else:\n",
    "        return False\n",
    "is_curzon(14)    "
   ]
  },
  {
   "cell_type": "markdown",
   "metadata": {},
   "source": [
    "#### 4.Given the side length x find the area of a hexagon.\n",
    "#### Examples\n",
    "#### area_of_hexagon(1) ➞ 2.6\n",
    "#### area_of_hexagon(2) ➞ 10.4\n",
    "#### area_of_hexagon(3) ➞ 23.4"
   ]
  },
  {
   "cell_type": "code",
   "execution_count": 21,
   "metadata": {},
   "outputs": [
    {
     "data": {
      "text/plain": [
       "23.4"
      ]
     },
     "execution_count": 21,
     "metadata": {},
     "output_type": "execute_result"
    }
   ],
   "source": [
    "from math import sqrt\n",
    "def area_of_hexagon(n):\n",
    "    area=(3*sqrt(3)*n**2)/2\n",
    "    return round(area,1)\n",
    "area_of_hexagon(3)"
   ]
  },
  {
   "cell_type": "markdown",
   "metadata": {},
   "source": [
    "#### Question 5. Create a function that returns a base-2 (binary) representation of a base-10\n",
    "#### (decimal) string number. To convert is simple: ((2) means base-2 and (10) means base-10)\n",
    "#### 010101001(2) = 1 + 8 + 32 + 128.\n",
    "#### Going from right to left, the value of the most right bit is 1, now from that every bit to the left\n",
    "#### will be x2 the value, value of an 8 bit binary numbers are (256, 128, 64, 32, 16, 8, 4, 2, 1).\n",
    "#### Examples\n",
    "#### binary(1) ➞ &quot;1&quot;\n",
    "#### 1*1 = 1\n",
    "#### binary(5) ➞ &quot;101&quot;\n",
    "#### 1*1 + 1*4 = 5\n",
    "#### binary(10) ➞ &quot;1010&quot;\n",
    "#### 1*2 + 1*8 = 10"
   ]
  },
  {
   "cell_type": "code",
   "execution_count": 7,
   "metadata": {},
   "outputs": [
    {
     "name": "stdout",
     "output_type": "stream",
     "text": [
      "1010"
     ]
    }
   ],
   "source": [
    "def binary(n):\n",
    "    if n >= 1:\n",
    "        binary(n // 2)\n",
    "        print(n%2,end='')  \n",
    "binary(10)       "
   ]
  },
  {
   "cell_type": "code",
   "execution_count": null,
   "metadata": {},
   "outputs": [],
   "source": []
  }
 ],
 "metadata": {
  "kernelspec": {
   "display_name": "Python 3",
   "language": "python",
   "name": "python3"
  },
  "language_info": {
   "codemirror_mode": {
    "name": "ipython",
    "version": 3
   },
   "file_extension": ".py",
   "mimetype": "text/x-python",
   "name": "python",
   "nbconvert_exporter": "python",
   "pygments_lexer": "ipython3",
   "version": "3.8.5"
  }
 },
 "nbformat": 4,
 "nbformat_minor": 4
}
