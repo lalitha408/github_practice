{
 "cells": [
  {
   "cell_type": "markdown",
   "metadata": {},
   "source": [
    "#### 1. Write a python program to display fibonacci sequence using recursion"
   ]
  },
  {
   "cell_type": "code",
   "execution_count": 1,
   "metadata": {},
   "outputs": [
    {
     "name": "stdout",
     "output_type": "stream",
     "text": [
      "How many terms 9\n",
      "Fibonacci sequence:\n",
      "0\n",
      "1\n",
      "1\n",
      "2\n",
      "3\n",
      "5\n",
      "8\n",
      "13\n",
      "21\n"
     ]
    }
   ],
   "source": [
    "def fibonacci(n):  \n",
    "    if n <= 1:  \n",
    "        return n  \n",
    "    else:  \n",
    "        return(fibonacci(n-1) + fibonacci(n-2))   \n",
    "n = int(input(\"How many terms \"))   \n",
    "if n <= 0:  \n",
    "    print(\"Plese enter a positive integer\")  \n",
    "else:  \n",
    "    print(\"Fibonacci sequence:\")  \n",
    "    for i in range(n):  \n",
    "        print(fibonacci(i))  "
   ]
  },
  {
   "cell_type": "markdown",
   "metadata": {},
   "source": [
    "#### 2. Write a python program to find factorial of a number using recursion"
   ]
  },
  {
   "cell_type": "code",
   "execution_count": 13,
   "metadata": {},
   "outputs": [
    {
     "name": "stdout",
     "output_type": "stream",
     "text": [
      "enter positive integer:7\n",
      "The factorial of 7 is 5040\n"
     ]
    },
    {
     "data": {
      "text/plain": [
       "5040"
      ]
     },
     "execution_count": 13,
     "metadata": {},
     "output_type": "execute_result"
    }
   ],
   "source": [
    "n=int(input('enter positive integer:'))\n",
    "def factorial(n):\n",
    "    if n==1:\n",
    "        return n\n",
    "    elif n>1:\n",
    "        return n*factorial(n-1)\n",
    "if n < 0:\n",
    "    print(\"factorial does not exist for negative numbers\")\n",
    "elif n == 0:\n",
    "    print(\"The factorial of 0 is 1\")\n",
    "else:\n",
    "    print(\"The factorial of\", n, \"is\", factorial(n))\n",
    "    \n",
    "    \n",
    "factorial(n)        "
   ]
  },
  {
   "cell_type": "markdown",
   "metadata": {},
   "source": [
    "#### 3. Write a python program to calculate your Body Mass Index"
   ]
  },
  {
   "cell_type": "code",
   "execution_count": 4,
   "metadata": {},
   "outputs": [
    {
     "name": "stdout",
     "output_type": "stream",
     "text": [
      "Enter Height in meters:1.5\n",
      "enter weight in KG:50\n"
     ]
    },
    {
     "data": {
      "text/plain": [
       "22.22222222222222"
      ]
     },
     "execution_count": 4,
     "metadata": {},
     "output_type": "execute_result"
    }
   ],
   "source": [
    "height=float(input('Enter Height in meters:'))\n",
    "weight=float(input(\"enter weight in KG:\"))\n",
    "def bmi(height,weight):\n",
    "    bmi=weight/(height**2)\n",
    "    return bmi\n",
    "bmi(height,weight)"
   ]
  },
  {
   "cell_type": "markdown",
   "metadata": {},
   "source": [
    "#### 4. Write python program to calculate the natural logrithm of any number"
   ]
  },
  {
   "cell_type": "code",
   "execution_count": 20,
   "metadata": {},
   "outputs": [
    {
     "name": "stdout",
     "output_type": "stream",
     "text": [
      "0.6931471805599453\n",
      "1.0986122886681098\n"
     ]
    }
   ],
   "source": [
    "import math\n",
    "print(math.log(2))\n",
    "print(math.log(3))"
   ]
  },
  {
   "cell_type": "markdown",
   "metadata": {},
   "source": [
    "#### 5. Write a python program for cube sum of first n natural numbers"
   ]
  },
  {
   "cell_type": "code",
   "execution_count": 7,
   "metadata": {},
   "outputs": [
    {
     "name": "stdout",
     "output_type": "stream",
     "text": [
      "enter Positive integer:6\n",
      "Cube sum of 6 natural numbers is: 441.0\n"
     ]
    }
   ],
   "source": [
    "n=int(input('enter Positive integer:'))\n",
    "sum=(n*(n+1)/2)**2\n",
    "print('Cube sum of',n,'natural numbers is:',sum)"
   ]
  },
  {
   "cell_type": "code",
   "execution_count": null,
   "metadata": {},
   "outputs": [],
   "source": []
  }
 ],
 "metadata": {
  "kernelspec": {
   "display_name": "Python 3",
   "language": "python",
   "name": "python3"
  },
  "language_info": {
   "codemirror_mode": {
    "name": "ipython",
    "version": 3
   },
   "file_extension": ".py",
   "mimetype": "text/x-python",
   "name": "python",
   "nbconvert_exporter": "python",
   "pygments_lexer": "ipython3",
   "version": "3.8.5"
  }
 },
 "nbformat": 4,
 "nbformat_minor": 4
}
