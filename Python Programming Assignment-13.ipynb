{
 "cells": [
  {
   "cell_type": "markdown",
   "metadata": {},
   "source": [
    "#### 1. Write a program that calculates and prints the value according to the given formula:\n",
    "#### Q = Square root of [(2 * C * D)/H]\n",
    "#### Following are the fixed values of C and H:\n",
    "#### C is 50. H is 30.\n",
    "#### D is the variable whose values should be input to your program in a comma-separated\n",
    "#### sequence.\n",
    "#### Example\n",
    "#### Let us assume the following comma separated input sequence is given to the program:\n",
    "#### 100,150,180\n",
    "#### The output of the program should be\n",
    "#### 18,22,24"
   ]
  },
  {
   "cell_type": "code",
   "execution_count": 6,
   "metadata": {},
   "outputs": [
    {
     "name": "stdout",
     "output_type": "stream",
     "text": [
      "Enter the numbers :100,150,180\n",
      "18,22,24\n"
     ]
    }
   ],
   "source": [
    "c=50\n",
    "h=30\n",
    "s = input(\"Enter the numbers :\")\n",
    "numbers = list(map(int, s.split(',')))\n",
    "res=[]\n",
    "for i in numbers:\n",
    "    d=i\n",
    "    formula=(2*c*d/h)**0.5\n",
    "    res.append(int(formula))\n",
    "print(\",\".join(str(i) for i in res))\n",
    "    "
   ]
  },
  {
   "cell_type": "markdown",
   "metadata": {},
   "source": [
    "#### 2. Write a program which takes 2 digits, X,Y as input and generates a 2-dimensional array. The\n",
    "#### element value in the i-th row and j-th column of the array should be i*j.\n",
    "#### Note: i=0,1.., X-1; j=0,1,¡Y-1.\n",
    "#### Example\n",
    "#### Suppose the following inputs are given to the program:\n",
    "#### 3,5\n",
    "#### Then, the output of the program should be:\n",
    "#### [[0, 0, 0, 0, 0], [0, 1, 2, 3, 4], [0, 2, 4, 6, 8]]"
   ]
  },
  {
   "cell_type": "code",
   "execution_count": 8,
   "metadata": {},
   "outputs": [
    {
     "name": "stdout",
     "output_type": "stream",
     "text": [
      "enter number of rows:3\n",
      "enter number of columns:5\n"
     ]
    },
    {
     "data": {
      "text/plain": [
       "array([[0., 0., 0., 0., 0.],\n",
       "       [0., 1., 2., 3., 4.],\n",
       "       [0., 2., 4., 6., 8.]])"
      ]
     },
     "execution_count": 8,
     "metadata": {},
     "output_type": "execute_result"
    }
   ],
   "source": [
    "import numpy as np\n",
    "x=int(input('enter number of rows:'))\n",
    "y=int(input('enter number of columns:'))\n",
    "res1=np.zeros(shape=(x,y))\n",
    "for i in range(x):\n",
    "    for j in range(y):\n",
    "        res1[i][j]=i*j\n",
    "res1        "
   ]
  },
  {
   "cell_type": "markdown",
   "metadata": {},
   "source": [
    "#### 3. Write a program that accepts a comma separated sequence of words as input and prints the\n",
    "#### words in a comma-separated sequence after sorting them alphabetically.\n",
    "#### Suppose the following input is supplied to the program:\n",
    "#### without,hello,bag,world\n",
    "#### Then,the output should be:\n",
    "#### bag,hello,without,world"
   ]
  },
  {
   "cell_type": "code",
   "execution_count": 7,
   "metadata": {},
   "outputs": [
    {
     "name": "stdout",
     "output_type": "stream",
     "text": [
      "Input comma separated sequence of wordswithout,hello,world,bag\n",
      "bag,hello,without,world\n"
     ]
    }
   ],
   "source": [
    "s = input(\"Input comma separated sequence of words\")\n",
    "words = [word for word in s.split(\",\")]\n",
    "print(\",\".join(sorted(list(set(words)))))"
   ]
  },
  {
   "cell_type": "markdown",
   "metadata": {},
   "source": [
    "#### 4. Write a program that accepts a sequence of whitespace separated words as input and prints\n",
    "#### the words after removing all duplicate words and sorting them alphanumerically.\n",
    "#### Suppose the following input is supplied to the program:\n",
    "#### hello world and practice makes perfect and hello world again\n",
    "#### Then, the output should be:\n",
    "#### again and hello makes perfect practice world"
   ]
  },
  {
   "cell_type": "code",
   "execution_count": 19,
   "metadata": {},
   "outputs": [
    {
     "name": "stdout",
     "output_type": "stream",
     "text": [
      "Enter the words :hello world and practice makes perfect and hello world again\n",
      "again and hello makes perfect practice world "
     ]
    }
   ],
   "source": [
    "s = input(\"Enter the words :\").split(' ')\n",
    "for i in sorted(set(s)):\n",
    "    print(i,end=' ')\n"
   ]
  },
  {
   "cell_type": "markdown",
   "metadata": {},
   "source": [
    "#### 5. Write a program that accepts a sentence and calculate the number of letters and digits\n",
    "#### Suppose the following input is supplied to the program:\n",
    "#### hello world! 123\n",
    "#### Then, the output should be:\n",
    "#### LETTERS 10\n",
    "#### DIGITS 3"
   ]
  },
  {
   "cell_type": "code",
   "execution_count": 3,
   "metadata": {},
   "outputs": [
    {
     "name": "stdout",
     "output_type": "stream",
     "text": [
      "enter sentence: hello world! 123\n",
      "LETTERS 10\n",
      "DIGITS 3\n"
     ]
    }
   ],
   "source": [
    "sentence=input('enter sentence: ')\n",
    "LETTERS=0\n",
    "DIGITS=0\n",
    "for i in sentence:\n",
    "    if i.isalpha()==True:\n",
    "        LETTERS=LETTERS+1\n",
    "    elif i.isnumeric()==True:\n",
    "        DIGITS=DIGITS+1\n",
    "    else:\n",
    "        pass\n",
    "print('LETTERS',LETTERS)\n",
    "print('DIGITS',DIGITS)"
   ]
  },
  {
   "cell_type": "markdown",
   "metadata": {},
   "source": [
    "#### 6. A website requires the users to input username and password to register. Write a program to\n",
    "#### check the validity of password input by users.\n",
    "#### Following are the criteria for checking the password:\n",
    "#### 1. At least 1 letter between [a-z]\n",
    "#### 2. At least 1 number between [0-9]\n",
    "#### 3. At least 1 letter between [A-Z]\n",
    "#### 4. At least 1 character from [$#@]"
   ]
  },
  {
   "cell_type": "markdown",
   "metadata": {},
   "source": [
    "#### 5.Minimum length of transaction password:6\n",
    "#### 6.Maximum length of transaction password:12\n",
    "#### Your program should accept a sequence of comma separated passwords and will check them\n",
    "#### according to the above criteria. Passwords that match the criteria are to be printed, each\n",
    "#### separated by a comma.\n",
    "#### Example\n",
    "#### If the following passwords are given as input to the program\n",
    "#### ABd1234@1,a F1#,2w3E*,2We3345\n",
    "#### Then, the output of the program should be:\n",
    "#### ABd1234@1"
   ]
  },
  {
   "cell_type": "code",
   "execution_count": 10,
   "metadata": {},
   "outputs": [
    {
     "name": "stdout",
     "output_type": "stream",
     "text": [
      "Enter passwords : ABd1234@1,a F1#,2w3E*,2We3345\n",
      "ABd1234@1\n"
     ]
    }
   ],
   "source": [
    "import re\n",
    "passwords = input(\"Enter passwords : \").split(',')\n",
    "\n",
    "valid_password = []\n",
    "for i in passwords:\n",
    "    \n",
    "    if len(i) < 6 or len(i) > 12:\n",
    "        continue\n",
    "\n",
    "    elif not re.search(\"([a-z])+\", i):\n",
    "        continue\n",
    "\n",
    "    elif not re.search(\"([A-Z])+\", i):\n",
    "        continue\n",
    "\n",
    "    elif not re.search(\"([0-9])+\", i):\n",
    "        continue\n",
    "\n",
    "    elif not re.search(\"([!@$%^&])+\", i):\n",
    "        continue\n",
    "\n",
    "    else:\n",
    "        valid_password.append(i)\n",
    "\n",
    "print((\" \").join(valid_password))"
   ]
  },
  {
   "cell_type": "code",
   "execution_count": null,
   "metadata": {},
   "outputs": [],
   "source": []
  }
 ],
 "metadata": {
  "kernelspec": {
   "display_name": "Python 3",
   "language": "python",
   "name": "python3"
  },
  "language_info": {
   "codemirror_mode": {
    "name": "ipython",
    "version": 3
   },
   "file_extension": ".py",
   "mimetype": "text/x-python",
   "name": "python",
   "nbconvert_exporter": "python",
   "pygments_lexer": "ipython3",
   "version": "3.8.5"
  }
 },
 "nbformat": 4,
 "nbformat_minor": 4
}
