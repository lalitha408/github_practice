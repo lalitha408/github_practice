{
 "cells": [
  {
   "cell_type": "markdown",
   "metadata": {},
   "source": [
    "#### 1. Write a python program to print \"Hello Python\"?"
   ]
  },
  {
   "cell_type": "code",
   "execution_count": 1,
   "metadata": {},
   "outputs": [
    {
     "name": "stdout",
     "output_type": "stream",
     "text": [
      "Hello Python\n"
     ]
    }
   ],
   "source": [
    "print('Hello Python')"
   ]
  },
  {
   "cell_type": "markdown",
   "metadata": {},
   "source": [
    "#### 2. Write a python program to do arithmetical operations addition and division"
   ]
  },
  {
   "cell_type": "code",
   "execution_count": 2,
   "metadata": {},
   "outputs": [
    {
     "name": "stdout",
     "output_type": "stream",
     "text": [
      "Enter a Value,it must be integer:3\n",
      "Enter b Value,it must be integer:9\n",
      "Addition: 12\n",
      "Division: 0.3333333333333333\n"
     ]
    }
   ],
   "source": [
    "a=int(input(\"Enter a Value,it must be integer:\"))\n",
    "b=int(input(\"Enter b Value,it must be integer:\"))\n",
    "print(\"Addition:\",a+b)\n",
    "print(\"Division:\",a/b)"
   ]
  },
  {
   "cell_type": "markdown",
   "metadata": {},
   "source": [
    "#### 3. Write a python program to find the area of a triangle"
   ]
  },
  {
   "cell_type": "code",
   "execution_count": 3,
   "metadata": {},
   "outputs": [
    {
     "name": "stdout",
     "output_type": "stream",
     "text": [
      "Enter Hieght Value of a triangle:6\n",
      "Enter Base Value of a triangle:9.3\n",
      "Area of a Triangle: 27.900000000000002\n"
     ]
    }
   ],
   "source": [
    "h=float(input('Enter Hieght Value of a triangle:'))\n",
    "b=float(input('Enter Base Value of a triangle:'))\n",
    "A=(h*b)/2\n",
    "print(\"Area of a Triangle:\", A)"
   ]
  },
  {
   "cell_type": "markdown",
   "metadata": {},
   "source": [
    "#### 4. Write a python program to swap 2 variables"
   ]
  },
  {
   "cell_type": "code",
   "execution_count": 5,
   "metadata": {},
   "outputs": [
    {
     "name": "stdout",
     "output_type": "stream",
     "text": [
      "Enter c value:ab\n",
      "Enter d value:cd\n",
      "c value after swaping: cd\n",
      "d value after swaping: ab\n"
     ]
    }
   ],
   "source": [
    "c=input(\"Enter c value:\")\n",
    "d=input(\"Enter d value:\")\n",
    "c,d=d,c\n",
    "print(\"c value after swaping:\",c)\n",
    "print(\"d value after swaping:\",d)"
   ]
  },
  {
   "cell_type": "markdown",
   "metadata": {},
   "source": [
    "#### 5. Write a python program to generate a random number"
   ]
  },
  {
   "cell_type": "code",
   "execution_count": 7,
   "metadata": {},
   "outputs": [
    {
     "name": "stdout",
     "output_type": "stream",
     "text": [
      "Random Number: 0.8510769352369364\n"
     ]
    }
   ],
   "source": [
    "import random\n",
    "n=random.random()\n",
    "print(\"Random Number:\",n)"
   ]
  },
  {
   "cell_type": "code",
   "execution_count": null,
   "metadata": {},
   "outputs": [],
   "source": []
  }
 ],
 "metadata": {
  "kernelspec": {
   "display_name": "Python 3",
   "language": "python",
   "name": "python3"
  },
  "language_info": {
   "codemirror_mode": {
    "name": "ipython",
    "version": 3
   },
   "file_extension": ".py",
   "mimetype": "text/x-python",
   "name": "python",
   "nbconvert_exporter": "python",
   "pygments_lexer": "ipython3",
   "version": "3.8.5"
  }
 },
 "nbformat": 4,
 "nbformat_minor": 4
}
